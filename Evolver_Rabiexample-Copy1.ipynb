{
 "cells": [
  {
   "cell_type": "markdown",
   "id": "a061871e",
   "metadata": {},
   "source": [
    "# Rabi example using Evolver"
   ]
  },
  {
   "cell_type": "markdown",
   "id": "0aafffdd",
   "metadata": {},
   "source": [
    "## Pulsed ESR and Rabi oscillation examples"
   ]
  },
  {
   "cell_type": "markdown",
   "id": "dd076f29",
   "metadata": {},
   "source": [
    "### Summary"
   ]
  },
  {
   "cell_type": "markdown",
   "id": "d3ad82f8",
   "metadata": {},
   "source": [
    "This script contains the same examples as the previously posted \"Rabi Pulsehandler Tutorial\" but now using the _new_ base scripts. The scripts handle the \"creation\" of the NV system, different types of pulses, the static Hamiltonian, and execution of pulses, among many others.\n",
    "\n",
    "In the pulsed ESR example, we will do a frequency sweep to find the resonances for our NV system, but also vary the Rabi frequency to illustrate how the system responds to stronger driving fields.\n",
    "\n",
    "After finding a resonance frequency using our ESR example, we will simulate electronic spin-population oscillations under a microwave drive. We'll also see how the amplitude and frequency of the oscillations change with different detunings. "
   ]
  },
  {
   "cell_type": "markdown",
   "id": "f328bc00",
   "metadata": {},
   "source": [
    "### Import packages"
   ]
  },
  {
   "cell_type": "code",
   "execution_count": 1,
   "id": "c7112fd5",
   "metadata": {},
   "outputs": [],
   "source": [
    "from qutip import *\n",
    "import numpy as np\n",
    "import scipy as scipy\n",
    "import matplotlib.pyplot as plt\n",
    "import matplotlib\n",
    "import scipy.signal as scs\n",
    "\n",
    "from multiprocess import Pool\n",
    "import time\n",
    "\n",
    "import sys\n",
    "import os"
   ]
  },
  {
   "cell_type": "code",
   "execution_count": 2,
   "id": "fa6ee462",
   "metadata": {},
   "outputs": [],
   "source": [
    "from tempo.qsys import Qsys\n",
    "from tempo.hamiltonian import Hamiltonian\n",
    "from tempo.pulse_recipe import Pulse_recipe\n",
    "from tempo.evolver import Evolver\n",
    "from tempo.pulse_sequence import Pulse_sequence\n",
    "from tempo.pulse import Pulse"
   ]
  },
  {
   "cell_type": "code",
   "execution_count": 3,
   "id": "7ebc5d42",
   "metadata": {},
   "outputs": [],
   "source": [
    "# import new base scripts\n",
    "# from qsys import *\n",
    "# from ham import *\n",
    "# from pulsetype import *\n",
    "# from hamfuncs import *\n",
    "# from evolver import *\n",
    "# from pulsesequence import *\n",
    "# from pulse import *"
   ]
  },
  {
   "cell_type": "markdown",
   "id": "b3d04a48",
   "metadata": {},
   "source": [
    "## Pulsed ESR sim"
   ]
  },
  {
   "cell_type": "markdown",
   "id": "1687a767",
   "metadata": {},
   "source": [
    "### Define NV system"
   ]
  },
  {
   "cell_type": "markdown",
   "id": "91f27025",
   "metadata": {},
   "source": [
    "The Qsys constructor takes a tuple of the dimensions of each particle's Hilbert space. In this case the tuple has two entries because we have two particles, with the electron having spin-1 and the nucleus having spin-1/2. "
   ]
  },
  {
   "cell_type": "code",
   "execution_count": 4,
   "id": "86aa25a9",
   "metadata": {},
   "outputs": [],
   "source": [
    "# initialize the NV system: (3, 2) for the dimensions of the electron's and nucleus' Hilbert spaces\n",
    "# creates a coupled system of the two spins\n",
    "qs = Qsys((3,2))"
   ]
  },
  {
   "cell_type": "markdown",
   "id": "3e164b02",
   "metadata": {},
   "source": [
    "### Define system's initial state for solver"
   ]
  },
  {
   "cell_type": "markdown",
   "id": "18f280be",
   "metadata": {},
   "source": [
    "For this simulation, we will use ms = 0, mi = +1/2."
   ]
  },
  {
   "cell_type": "code",
   "execution_count": 5,
   "id": "a085973d",
   "metadata": {},
   "outputs": [
    {
     "data": {
      "text/latex": [
       "Quantum object: dims = [[3, 2], [1, 1]], shape = (6, 1), type = ket\\begin{equation*}\\left(\\begin{array}{*{11}c}0.0\\\\0.0\\\\1.0\\\\0.0\\\\0.0\\\\0.0\\\\\\end{array}\\right)\\end{equation*}"
      ],
      "text/plain": [
       "Quantum object: dims = [[3, 2], [1, 1]], shape = (6, 1), type = ket\n",
       "Qobj data =\n",
       "[[0.]\n",
       " [0.]\n",
       " [1.]\n",
       " [0.]\n",
       " [0.]\n",
       " [0.]]"
      ]
     },
     "execution_count": 5,
     "metadata": {},
     "output_type": "execute_result"
    }
   ],
   "source": [
    "# define initial state: \n",
    "state_init = tensor(basis(3,1), basis(2, 0)) # ms = 0 (electron), mi = +1/2 state (nucleus)\n",
    "state_init"
   ]
  },
  {
   "cell_type": "code",
   "execution_count": 6,
   "id": "f0e44af1",
   "metadata": {},
   "outputs": [],
   "source": [
    "# state_init = 0.5*tensor(basis(3,1)*basis(3,1).dag(), basis(2,0)*basis(2,0).dag())\n",
    "# state_init"
   ]
  },
  {
   "cell_type": "markdown",
   "id": "bbbf9fec",
   "metadata": {},
   "source": [
    "### Applied B-field (static)"
   ]
  },
  {
   "cell_type": "code",
   "execution_count": 7,
   "id": "7cde82c3",
   "metadata": {},
   "outputs": [
    {
     "name": "stdout",
     "output_type": "stream",
     "text": [
      "[  0.   0. 100.]\n"
     ]
    }
   ],
   "source": [
    "#\n",
    "# Define applied magnetic field\n",
    "#\n",
    "Bx = 0; By = 0; Bz = 100 # B field components (G)\n",
    "B0_init = np.array([Bx, By, Bz]) # B field vector (G)\n",
    "\n",
    "# If desired, rotate magnetic field around y-axis, by angle theta\n",
    "theta = 0 #degrees\n",
    "theta *= np.pi/180\n",
    "Ry = np.array([[np.cos(theta), 0, np.sin(theta)],[0,1,0],[-np.sin(theta), 0, np.cos(theta)]]) # rotation opr\n",
    "B0 = np.dot(Ry, B0_init) \n",
    "print(B0)"
   ]
  },
  {
   "cell_type": "markdown",
   "id": "3bc3f56d",
   "metadata": {},
   "source": [
    "### Define array of microwave frequencies to loop through"
   ]
  },
  {
   "cell_type": "code",
   "execution_count": 8,
   "id": "0f00278f",
   "metadata": {},
   "outputs": [],
   "source": [
    "frq_start = 3140 #MHz\n",
    "frq_end = 3160 #MHz\n",
    "nsteps_frq = 81 #number of steps between frq_start and frq_end\n",
    "arr_frqs = np.linspace(frq_start, frq_end, nsteps_frq)"
   ]
  },
  {
   "cell_type": "markdown",
   "id": "f75e5287",
   "metadata": {},
   "source": [
    "### Define Rabi frequency"
   ]
  },
  {
   "cell_type": "markdown",
   "id": "807f703c",
   "metadata": {},
   "source": [
    "Do a frequency sweep for 3 different Rabi frequencies: 1, 2, and 5 MHz. \n",
    "\n",
    "We will apply a microwave drive of the form\n",
    "\n",
    "\\begin{equation}\n",
    "\\frac{\\hat{H}(t)}{\\hbar} = 2\\pi\\cdot \\underbrace{\\cos{(\\omega t)}}_\\text{time-dependent coefficient} \\cdot \\sqrt{2}\\Omega \\hat{S}_x\n",
    "\\end{equation}\n",
    "\n",
    "where $ \\Omega $ is the Rabi frequency and $ \\omega $ is the driving frequency. $\\Omega $ describes the strength of the driving field via a general formula $ \\Omega = -\\gamma B $. $ S_x $ is the electron spin operator \n",
    "\n",
    "\\begin{equation}\n",
    "\\hat{S}_x = \\frac{1}{\\sqrt{2}} \\cdot \\left[\\begin{matrix}0 & 1 & 0\\\\1 & 0 & 1\\\\0 & 1 & 0\\end{matrix}\\right] \\otimes \\mathbb{1}\n",
    "\\end{equation}\n",
    "\n",
    "The MW drive will be applied for the duration of one $ \\pi$-pulse, \n",
    "$$ t_{\\pi} = \\frac{1}{2\\Omega} $$.\n"
   ]
  },
  {
   "cell_type": "code",
   "execution_count": 9,
   "id": "fddc450e",
   "metadata": {},
   "outputs": [
    {
     "name": "stdout",
     "output_type": "stream",
     "text": [
      "[0.5, 0.25, 0.1]\n"
     ]
    }
   ],
   "source": [
    "# Define Rabi frequency\n",
    "\n",
    "gammaNV = -2.8025\n",
    "\n",
    "#\n",
    "# Omega_rabi represents the on-resonance Rabi frequency in MHz\n",
    "# Change Omega_rabi as needed (larger Rabi -> faster pulse sequences, but linewidth suffers/increases)\n",
    "#\n",
    "Omega_rabi = [1, 2, 5] # Rabi freq in MHz: describes strength of microwave drive field. \n",
    "B_amplitude = [omega / gammaNV for omega in Omega_rabi]\n",
    "\n",
    "# Define duration of pi pulse from Rabi frequency\n",
    "time_pi = [1 / omega /2 for omega in Omega_rabi] #seconds\n",
    "print(time_pi)"
   ]
  },
  {
   "cell_type": "markdown",
   "id": "5adc4e3a",
   "metadata": {},
   "source": [
    "### Set up static Hamiltonian"
   ]
  },
  {
   "cell_type": "markdown",
   "id": "58a8e490",
   "metadata": {},
   "source": [
    "Set up a static Hamiltonian with hyperfine interaction for the system (from QuTiP tutorial): \n",
    "\n",
    "$$\n",
    "\\frac{\\hat{H}}{h} =  \\underbrace{D \\hat{S}_z^2}_\\text{Zero-field splitting} + \\underbrace{\\gamma_e \\vec{B}\\cdot \\vec{S}}_\\text{Electron Zeeman interaction} + \\underbrace{\\gamma_n \\vec{B}\\cdot \\vec{I}}_\\text{Nuclear Zeeman interaction} + \\underbrace{\\vec{S} \\cdot \\overline{A} \\cdot \\vec{I}}_\\text{Hyperfine interaction} + \\underbrace{\\Big(Q \\hat{I}_z^2\\Big)}_\\text{Quadrupole Splitting (N14)} + \\underbrace{\\cos{(\\omega t)} \\cdot \\sqrt{2}\\Omega \\hat{S}_x}_\\text{Microwave drive}\n",
    "$$\n",
    "\n",
    "Above, the first 5 terms are static and the last is the time-dependent term or the \"pulse.\" $\\vec{S}$ and $\\vec{I}$ contain the spin operators for the electron and nuclear spin respectively. \n",
    "\n",
    "$\\vec{B}$ is the magnetic field vector relative to an NV$^-$ axis oriented in the z-direction.\n",
    "\n",
    "$$\\vec{S} = \\begin{pmatrix} \\hat{S}_x \\\\ \\hat{S}_y \\\\\\hat{S}_z\\end{pmatrix}, \\vec{I} = \\begin{pmatrix} \\hat{I}_x \\\\ \\hat{I}_y \\\\\\hat{I}_z\\end{pmatrix}, \\vec{B} = \\begin{pmatrix} B_x \\\\ B_y \\\\ B_z\\end{pmatrix}, \\overline{A} = \\begin{bmatrix} A_\\perp & 0 & 0\\\\ 0 & A_\\perp & 0 \\\\ 0 & 0 & A_{||}\\end{bmatrix}$$"
   ]
  },
  {
   "cell_type": "code",
   "execution_count": 10,
   "id": "5a09067d",
   "metadata": {},
   "outputs": [],
   "source": [
    "# helper for Hamiltonian terms\n",
    "def dotproduct(vecV, vecU):\n",
    "    #\n",
    "    # Dot product between vector V = (Vx,Vy,Vz) and vector U = (Ux,Uy,Uz)\n",
    "    #\n",
    "    return sum([Vcomp*Ucomp for Vcomp, Ucomp in zip(vecV, vecU)])"
   ]
  },
  {
   "cell_type": "code",
   "execution_count": 11,
   "id": "f6c816f8",
   "metadata": {},
   "outputs": [],
   "source": [
    "# Define the static Hamiltonian terms involved in frequency sweep\n",
    "# nucleus is N15 \n",
    "\n",
    "# Define functions for each Hamiltonian term\n",
    "# Args must be \"matrices\" and \"parameters\" in that order\n",
    "def ZFSfunc(Hmats, Hpars):\n",
    "    return Hpars['coeff']*Hpars['ZFSconst']*Hmats['Sz']*Hmats['Sz']\n",
    "\n",
    "# Define dictionaries of scalars and operators\n",
    "ZFSpars = {'coeff': 2*np.pi, 'ZFSconst': 2.87e3}\n",
    "ZFSmats = {'Sz': qs.Sz[0]}"
   ]
  },
  {
   "cell_type": "code",
   "execution_count": 12,
   "id": "c9c9bde6",
   "metadata": {},
   "outputs": [],
   "source": [
    "def ZeeNVfunc(Hmats, Hpars):\n",
    "    return Hpars['coeff']*Hpars['gammaNV']*tensor(dotproduct(Hpars['Bfield'], Hmats['S1']), identity(Hpars['P2dims']))\n",
    "\n",
    "ZeeNVpars = {'coeff': -2*np.pi, 'Bfield': B0, 'gammaNV': -2.8025, 'P2dims': qs.dimensions[1]}\n",
    "ZeeNVmats = {'S1': jmat(qs.stot[0])}"
   ]
  },
  {
   "cell_type": "code",
   "execution_count": 13,
   "id": "739eb4f7",
   "metadata": {},
   "outputs": [],
   "source": [
    "def ZeeNucfunc(Hmats, Hpars):\n",
    "    return Hpars['coeff']*Hpars['gammaNuc']*tensor(identity(Hpars['P1dims']), dotproduct(Hpars['Bfield'], Hmats['S2']))\n",
    "\n",
    "ZeeNucpars = {'coeff': -2*np.pi, 'Bfield': B0, 'gammaNuc': -431.6e-6, 'P1dims': qs.dimensions[0]}\n",
    "ZeeNucmats = {'S2': jmat(qs.stot[1])}"
   ]
  },
  {
   "cell_type": "code",
   "execution_count": 14,
   "id": "50e7515b",
   "metadata": {},
   "outputs": [],
   "source": [
    "def HFfunc(Hmats, Hpars):\n",
    "    return Hpars['coeff']*(Hmats['A'][2,2] * Hmats['Sz'] * Hmats['Iz'] + Hmats['A'][0,0] * (Hmats['Sx']*Hmats['Ix'] + Hmats['Sy']*Hmats['Iy']))\n",
    "\n",
    "A_N15 = np.array([[3.65,0,0],[0,3.65,0],[0,0,3.03]]) # Nitrogen-15 HF tensor\n",
    "\n",
    "HFpars = {'coeff': 2*np.pi}\n",
    "HFmats = {'A': A_N15, 'Sz': qs.Sz[0], 'Iz': qs.Sz[1], \n",
    "          'Sx': qs.Sx[0], 'Ix': qs.Sx[1], 'Sy': qs.Sy[0], 'Iy': qs.Sy[1]}"
   ]
  },
  {
   "cell_type": "code",
   "execution_count": 15,
   "id": "dde26ea7",
   "metadata": {},
   "outputs": [],
   "source": [
    "# create Hamiltonian objects to store these terms\n",
    "HZFS = Hamiltonian(ZFSmats, ZFSpars, ZFSfunc)\n",
    "HZeeNV = Hamiltonian(ZeeNVmats, ZeeNVpars, ZeeNVfunc)\n",
    "HZeeNuc = Hamiltonian(ZeeNucmats, ZeeNucpars, ZeeNucfunc)\n",
    "HHF = Hamiltonian(HFmats, HFpars, HFfunc)"
   ]
  },
  {
   "cell_type": "code",
   "execution_count": 16,
   "id": "62ea2d54",
   "metadata": {},
   "outputs": [],
   "source": [
    "# get the total static Hamiltonian operator\n",
    "Hstat = HZFS.H + HZeeNV.H + HZeeNuc.H + HHF.H"
   ]
  },
  {
   "cell_type": "code",
   "execution_count": 17,
   "id": "0a4bd87c",
   "metadata": {},
   "outputs": [
    {
     "data": {
      "text/latex": [
       "Quantum object: dims = [[3, 2], [3, 2]], shape = (6, 6), type = oper, isherm = True\\begin{equation*}\\left(\\begin{array}{*{11}c}1.980\\times10^{+04} & 0.0 & 0.0 & 0.0 & 0.0 & 0.0\\\\0.0 & 1.978\\times10^{+04} & 16.217 & 0.0 & 0.0 & 0.0\\\\0.0 & 16.217 & 0.136 & 0.0 & 0.0 & 0.0\\\\0.0 & 0.0 & 0.0 & -0.136 & 16.217 & 0.0\\\\0.0 & 0.0 & 0.0 & 16.217 & 1.626\\times10^{+04} & 0.0\\\\0.0 & 0.0 & 0.0 & 0.0 & 0.0 & 1.628\\times10^{+04}\\\\\\end{array}\\right)\\end{equation*}"
      ],
      "text/plain": [
       "Quantum object: dims = [[3, 2], [3, 2]], shape = (6, 6), type = oper, isherm = True\n",
       "Qobj data =\n",
       "[[ 1.98032591e+04  0.00000000e+00  0.00000000e+00  0.00000000e+00\n",
       "   0.00000000e+00  0.00000000e+00]\n",
       " [ 0.00000000e+00  1.97839499e+04  1.62165227e+01  0.00000000e+00\n",
       "   0.00000000e+00  0.00000000e+00]\n",
       " [ 0.00000000e+00  1.62165227e+01  1.35591139e-01  0.00000000e+00\n",
       "   0.00000000e+00  0.00000000e+00]\n",
       " [ 0.00000000e+00  0.00000000e+00  0.00000000e+00 -1.35591139e-01\n",
       "   1.62165227e+01  0.00000000e+00]\n",
       " [ 0.00000000e+00  0.00000000e+00  0.00000000e+00  1.62165227e+01\n",
       "   1.62624957e+04  0.00000000e+00]\n",
       " [ 0.00000000e+00  0.00000000e+00  0.00000000e+00  0.00000000e+00\n",
       "   0.00000000e+00  1.62812626e+04]]"
      ]
     },
     "execution_count": 17,
     "metadata": {},
     "output_type": "execute_result"
    }
   ],
   "source": [
    "Hstat"
   ]
  },
  {
   "cell_type": "markdown",
   "id": "dc3bd029",
   "metadata": {},
   "source": [
    "### Define AC drive Hamiltonian"
   ]
  },
  {
   "cell_type": "markdown",
   "id": "a37a331f",
   "metadata": {},
   "source": [
    "The time-dependent Hamiltonian term is encoded in a \"pulse type.\" This will then be used to create a pulse with the correct parameters."
   ]
  },
  {
   "cell_type": "code",
   "execution_count": 18,
   "id": "f0b4e61e",
   "metadata": {},
   "outputs": [],
   "source": [
    "# define the time-dependent pulse type\n",
    "# in this case AC drive, A*cos(omega*(t+offset)+phase)\n",
    "# function must have inputs t, args\n",
    "def ACD(t, args):\n",
    "    return args['B_amp']*np.cos(2*np.pi*args['freq']*(t + args['offset']) + args['phase'])\n",
    "\n",
    "H_Bac = 2 * np.pi * gammaNV * qs.Sx[0] * np.sqrt(2)\n",
    "ACDkeys = ['B_amp', 'freq', 'offset', 'phase']"
   ]
  },
  {
   "cell_type": "code",
   "execution_count": 19,
   "id": "bca29345",
   "metadata": {},
   "outputs": [],
   "source": [
    "# create the pulsetype object with the operator, parameter names, and function\n",
    "# we are not inputting numerical parameters yet; this pulsetype is a blueprint for any ACD pulse\n",
    "# values will come in later\n",
    "\n",
    "# The first input should be a Hamiltonian object, but you can pass in only an operator \n",
    "# into Hamiltonian() if your operator is simple (doesn't require multiplying different standalone operators, etc)\n",
    "ACDpulsetype = Pulse_recipe(Hamiltonian(H_Bac), ACDkeys, ACD)"
   ]
  },
  {
   "cell_type": "markdown",
   "id": "934329ae",
   "metadata": {},
   "source": [
    "### Loop through microwave frequencies, append each pulse sequence object to list for execution"
   ]
  },
  {
   "cell_type": "markdown",
   "id": "5d809902",
   "metadata": {},
   "source": [
    "Loop through both the 3 different Rabi frequencies and the range of driving frequencies by applying a $\\pi$-pulse to the initial state ms = 0, mi = +1/2 each time. "
   ]
  },
  {
   "cell_type": "code",
   "execution_count": 20,
   "id": "88cb23e4",
   "metadata": {},
   "outputs": [],
   "source": [
    "# create a list of pulse sequences, each one handling a different frequency in the sweep\n",
    "ls_pulsehandlers_Rabi = [] \n",
    "tlists = []\n",
    "    \n",
    "for i in np.arange(len(Omega_rabi)):\n",
    "    for frq in arr_frqs:\n",
    "        \n",
    "        duration = time_pi[i]\n",
    "        starttime = 0\n",
    "\n",
    "        # pulse sequence object\n",
    "        pulse_handler_Rabi = Pulse_sequence(Hstat = Hstat)\n",
    "        tlists.append(np.linspace(starttime, duration, 100))\n",
    "\n",
    "        B_amp = B_amplitude[i]\n",
    "        frequency = frq\n",
    "        offset = 0\n",
    "        phase = 0\n",
    "\n",
    "        # create a pulse with the ACD pulsetype, and input numerical values \n",
    "        # add to the list of pulses in pulse sequence\n",
    "        pulse_rabi = Pulse(ACDpulsetype, start_time = starttime, duration = duration, coeff_params = {'B_amp': B_amp, 'freq': frq, 'offset': offset, 'phase': phase})\n",
    "        pulse_handler_Rabi.add_pulse(pulse_rabi)\n",
    "\n",
    "        ls_pulsehandlers_Rabi.append(pulse_handler_Rabi)"
   ]
  },
  {
   "cell_type": "markdown",
   "id": "bda5e45c",
   "metadata": {},
   "source": [
    "### Define function for executing pulse sequences"
   ]
  },
  {
   "cell_type": "code",
   "execution_count": 21,
   "id": "9cc5c085",
   "metadata": {},
   "outputs": [],
   "source": [
    "# define how to execute pulse\n",
    "# this creates an Evolver object and then calls its evolve() function, which returns the state of the system at the timestamps specified in tlist\n",
    "def exec_pulse_Rabi(state_init, tlist, pulsehandler):\n",
    "    opts = Options(rhs_reuse = False, nsteps = 1000000, atol=1e-9, rtol=1e-9, tidy=False)\n",
    "    return Evolver(state_init, tlist, pulsehandler, opts = opts).evolve(method = 'regular')"
   ]
  },
  {
   "cell_type": "markdown",
   "id": "11c92762",
   "metadata": {},
   "source": [
    "### Execute pulse sequences in parallel"
   ]
  },
  {
   "cell_type": "code",
   "execution_count": 22,
   "id": "5589da6a",
   "metadata": {},
   "outputs": [
    {
     "name": "stdout",
     "output_type": "stream",
     "text": [
      "Time taken (s) 197.71\n"
     ]
    }
   ],
   "source": [
    "# execute pulse sequences in parallel\n",
    "sim_starttime = time.time()\n",
    "\n",
    "n = len(ls_pulsehandlers_Rabi)\n",
    "\n",
    "# inputs are initial state, tlist, and pulse sequence, as outlined in the args for exec_pulse_Rabi\n",
    "inputs = zip([state_init]*n, tlists, ls_pulsehandlers_Rabi)\n",
    "\n",
    "if __name__ == '__main__':\n",
    "    with Pool(processes = n) as pool:\n",
    "        output_map = pool.starmap(exec_pulse_Rabi, inputs)\n",
    "        pool.close()\n",
    "        pool.join()\n",
    "\n",
    "output_map = list(output_map)\n",
    "\n",
    "sim_endtime = time.time()\n",
    "print('Time taken (s)', round(sim_endtime- sim_starttime,3))"
   ]
  },
  {
   "cell_type": "markdown",
   "id": "8893f956",
   "metadata": {},
   "source": [
    "### Separate the 3 different sweeps into their own arrays"
   ]
  },
  {
   "cell_type": "code",
   "execution_count": 23,
   "id": "53c0851d",
   "metadata": {},
   "outputs": [],
   "source": [
    "# the only purpose of the code in this cell is to separate the output of the parallel map into the \n",
    "# three sets of Rabi frequencies. Again, the first 81 entries in output_map are for Rabi = 1 MHz, etc. \n",
    "\n",
    "n_rabi_frqs = len(Omega_rabi) # number of separate frequency sweeps, one for each Rabi frequency\n",
    "len_frqsweep = int(len(output_map)/n_rabi_frqs) # length of one frequency-sweep array's results\n",
    "#print(len_frqsweep)\n",
    "\n",
    "ls_states_frqsweep = [[]]*n_rabi_frqs # create a 2D array to store each of the sweeps' results\n",
    "\n",
    "for i in np.arange(n_rabi_frqs):\n",
    "    ls_states_frqsweep[i] = [elem.states[-1] for elem in output_map[i*len_frqsweep:(i+1)*len_frqsweep]] \n",
    "    # By taking the very last element of each pulse, we get the state of the system at the end of \n",
    "    # each pulse"
   ]
  },
  {
   "cell_type": "code",
   "execution_count": 24,
   "id": "26293d5f",
   "metadata": {},
   "outputs": [
    {
     "data": {
      "text/latex": [
       "Quantum object: dims = [[3, 2], [3, 2]], shape = (6, 6), type = oper, isherm = True\\begin{equation*}\\left(\\begin{array}{*{11}c}0.0 & 0.0 & 0.0 & 0.0 & 0.0 & 0.0\\\\0.0 & 0.0 & 0.0 & 0.0 & 0.0 & 0.0\\\\0.0 & 0.0 & 1.0 & 0.0 & 0.0 & 0.0\\\\0.0 & 0.0 & 0.0 & 1.0 & 0.0 & 0.0\\\\0.0 & 0.0 & 0.0 & 0.0 & 0.0 & 0.0\\\\0.0 & 0.0 & 0.0 & 0.0 & 0.0 & 0.0\\\\\\end{array}\\right)\\end{equation*}"
      ],
      "text/plain": [
       "Quantum object: dims = [[3, 2], [3, 2]], shape = (6, 6), type = oper, isherm = True\n",
       "Qobj data =\n",
       "[[0. 0. 0. 0. 0. 0.]\n",
       " [0. 0. 0. 0. 0. 0.]\n",
       " [0. 0. 1. 0. 0. 0.]\n",
       " [0. 0. 0. 1. 0. 0.]\n",
       " [0. 0. 0. 0. 0. 0.]\n",
       " [0. 0. 0. 0. 0. 0.]]"
      ]
     },
     "execution_count": 24,
     "metadata": {},
     "output_type": "execute_result"
    }
   ],
   "source": [
    "#population operator whose expectation value we are getting\n",
    "exp_op = qs.basisstates(0)[1]\n",
    "exp_op"
   ]
  },
  {
   "cell_type": "markdown",
   "id": "c5d62fc1",
   "metadata": {},
   "source": [
    "### Plot ms = 0 population vs frequency of drive"
   ]
  },
  {
   "cell_type": "code",
   "execution_count": 25,
   "id": "722479d8",
   "metadata": {},
   "outputs": [
    {
     "name": "stdout",
     "output_type": "stream",
     "text": [
      "Resonance frequency: [3151.75]\n"
     ]
    },
    {
     "data": {
      "image/png": "[encoded data removed]",
      "text/plain": [
       "<Figure size 640x480 with 1 Axes>"
      ]
     },
     "metadata": {},
     "output_type": "display_data"
    }
   ],
   "source": [
    "popdata = [[]]*n_rabi_frqs\n",
    "for i in np.arange(n_rabi_frqs):\n",
    "    popdata[i] = expect(exp_op, ls_states_frqsweep[i])\n",
    "    plt.plot(arr_frqs, popdata[i], '-')\n",
    "\n",
    "resonance = arr_frqs[scs.find_peaks(1-popdata[2], height = 0.2)[0]]\n",
    "print('Resonance frequency:', resonance)\n",
    "\n",
    "plt.title('Pulsed ESR spectrum')\n",
    "plt.xlabel('Frequency (MHz)')\n",
    "plt.ylabel('Population ms=0')\n",
    "plt.legend(['Rabi = 1 MHz', 'Rabi = 2 MHz', 'Rabi = 5 MHz'])\n",
    "plt.show()"
   ]
  },
  {
   "cell_type": "markdown",
   "id": "50492672",
   "metadata": {},
   "source": [
    "## Rabi oscillation sim"
   ]
  },
  {
   "cell_type": "markdown",
   "id": "d5892ca6",
   "metadata": {},
   "source": [
    "Now, driving the system at the resonance frequency and varying the detuning, we can see how the amplitude and frequency of the oscillation change. During the MW drive, the spin population will oscillate between two extremes; at resonance and no detuning, it will oscillate at the generalized Rabi frequency, $ W = \\Omega $, between the ms = 0 and the ms = +1 state. When detuning $\\Delta$ is added, it will oscillate at a frequency\n",
    "\n",
    "$$ W = \\sqrt{\\Delta^2+\\Omega^2} $$\n",
    "\n",
    "where $ W $ is again the generalized Rabi frequency, $ \\Delta = \\omega - \\omega_0 $ is the detuning, and $ \\Omega $ is the Rabi frequency. $ \\omega $ is the driving frequency and $ \\omega_0 $ is the resonance frequency for the transition we are probing. \n",
    "\n",
    "The population curve will again follow the equation\n",
    "\n",
    "\\begin{equation}\n",
    "    P_0(t) = 1-(\\frac{\\Omega}{W})^2\\sin^2(2\\pi\\times\\frac{Wt}{2})\n",
    "\\end{equation}\n",
    "\n",
    "but this time the independent variable is $t$ because we are measuring the state of the system over time.\n",
    "\n",
    "From above, we see that the amplitude of the population oscillation is determined by the ratio $ (\\frac{\\Omega}{W})^2 $."
   ]
  },
  {
   "cell_type": "markdown",
   "id": "6673ae23",
   "metadata": {},
   "source": [
    "### Array of times for measuring state during continuous MW drive"
   ]
  },
  {
   "cell_type": "code",
   "execution_count": 26,
   "id": "1b5c7e12",
   "metadata": {},
   "outputs": [],
   "source": [
    "# Array of times for measuring state during continuous MW drive\n",
    "tfp_max = 7 # us\n",
    "arr_timesfp = np.linspace(0, tfp_max, 100)\n",
    "# print('arr_timesfp', arr_timesfp, '\\n')"
   ]
  },
  {
   "cell_type": "markdown",
   "id": "fcab6a0e",
   "metadata": {},
   "source": [
    "### AC drive detuning from resonance (MHz)"
   ]
  },
  {
   "cell_type": "code",
   "execution_count": 27,
   "id": "b16c0046",
   "metadata": {},
   "outputs": [],
   "source": [
    "# define an array of detunings to loop through\n",
    "detuns = [0, 1, 2]"
   ]
  },
  {
   "cell_type": "markdown",
   "id": "1d65691a",
   "metadata": {},
   "source": [
    "### Loop through detunings, append to pulse sequence"
   ]
  },
  {
   "cell_type": "code",
   "execution_count": 28,
   "id": "4f561e56",
   "metadata": {},
   "outputs": [],
   "source": [
    "\n",
    "ls_pulsehandlers_Rabi = []\n",
    "\n",
    "# use B-field strength of 1MHz/-2.8025\n",
    "B_amp = B_amplitude[0]\n",
    "\n",
    "for dt in detuns:\n",
    "    \n",
    "    duration_2 = tfp_max\n",
    "    starttime_2 = 0\n",
    "    offset = 0\n",
    "    phase = 0\n",
    "    \n",
    "    # pulse sequence object:\n",
    "    pulse_handler_Rabi = Pulse_sequence(Hstat = Hstat)\n",
    "    \n",
    "    frq = resonance+dt\n",
    "    \n",
    "    # create a pulse, still with the ACD pulsetype, and input numerical values \n",
    "    # add to the list of pulses in pulse sequence\n",
    "    pulse_rabi = Pulse(ACDpulsetype, start_time = starttime_2, duration = duration_2, coeff_params = {'B_amp': B_amp, 'freq': frq, 'offset': offset, 'phase': phase})\n",
    "    pulse_handler_Rabi.add_pulse(pulse_rabi)\n",
    "\n",
    "    ls_pulsehandlers_Rabi.append(pulse_handler_Rabi)"
   ]
  },
  {
   "cell_type": "markdown",
   "id": "ec416174",
   "metadata": {},
   "source": [
    "### Execute all three sequences in parallel"
   ]
  },
  {
   "cell_type": "code",
   "execution_count": 29,
   "id": "43aabf10",
   "metadata": {},
   "outputs": [
    {
     "name": "stderr",
     "output_type": "stream",
     "text": [
      "python(14001) MallocStackLogging: can't turn off malloc stack logging because it was not enabled.\n",
      "python(14002) MallocStackLogging: can't turn off malloc stack logging because it was not enabled.\n",
      "python(14004) MallocStackLogging: can't turn off malloc stack logging because it was not enabled.\n"
     ]
    },
    {
     "name": "stdout",
     "output_type": "stream",
     "text": [
      "Time taken (s) 21.308\n"
     ]
    }
   ],
   "source": [
    "# execute pulse sequences in parallel\n",
    "sim_starttime = time.time()\n",
    "\n",
    "n = len(ls_pulsehandlers_Rabi)\n",
    "\n",
    "# inputs are initial state, tlist, and pulse sequence, as outlined in the args for exec_pulse_Rabi\n",
    "inputs = zip([state_init]*n, [arr_timesfp]*n, ls_pulsehandlers_Rabi)\n",
    "\n",
    "if __name__ == '__main__':\n",
    "    with Pool(processes = n) as pool:\n",
    "        output_map = pool.starmap(exec_pulse_Rabi, inputs)\n",
    "        pool.close()\n",
    "        pool.join()\n",
    "\n",
    "output_map = list(output_map)\n",
    "\n",
    "# if you are on Mac, and want to see a progress bar, you can uncomment below\n",
    "# output_map = parallel_map(exec_pulse_Rabi, np.arange(len(ls_pulsehandlers_Rabi)), \n",
    "#                             task_args=(state_init, arr_timesfp, ls_pulsehandlers_Rabi), progress_bar=True)\n",
    "\n",
    "sim_endtime = time.time()\n",
    "print('Time taken (s)', round(sim_endtime- sim_starttime,3))"
   ]
  },
  {
   "cell_type": "markdown",
   "id": "752a17e9",
   "metadata": {},
   "source": [
    "### Put the results of each sequence in a separate array"
   ]
  },
  {
   "cell_type": "code",
   "execution_count": 30,
   "id": "02e3ff88",
   "metadata": {},
   "outputs": [],
   "source": [
    "ls_states_detunings = [[]]*len(output_map)\n",
    "\n",
    "for i in np.arange(len(output_map)):\n",
    "    ls_states_detunings[i] = output_map[i].states"
   ]
  },
  {
   "cell_type": "code",
   "execution_count": 31,
   "id": "9a52191e",
   "metadata": {},
   "outputs": [
    {
     "data": {
      "text/latex": [
       "Quantum object: dims = [[3, 2], [3, 2]], shape = (6, 6), type = oper, isherm = True\\begin{equation*}\\left(\\begin{array}{*{11}c}0.0 & 0.0 & 0.0 & 0.0 & 0.0 & 0.0\\\\0.0 & 0.0 & 0.0 & 0.0 & 0.0 & 0.0\\\\0.0 & 0.0 & 1.0 & 0.0 & 0.0 & 0.0\\\\0.0 & 0.0 & 0.0 & 1.0 & 0.0 & 0.0\\\\0.0 & 0.0 & 0.0 & 0.0 & 0.0 & 0.0\\\\0.0 & 0.0 & 0.0 & 0.0 & 0.0 & 0.0\\\\\\end{array}\\right)\\end{equation*}"
      ],
      "text/plain": [
       "Quantum object: dims = [[3, 2], [3, 2]], shape = (6, 6), type = oper, isherm = True\n",
       "Qobj data =\n",
       "[[0. 0. 0. 0. 0. 0.]\n",
       " [0. 0. 0. 0. 0. 0.]\n",
       " [0. 0. 1. 0. 0. 0.]\n",
       " [0. 0. 0. 1. 0. 0.]\n",
       " [0. 0. 0. 0. 0. 0.]\n",
       " [0. 0. 0. 0. 0. 0.]]"
      ]
     },
     "execution_count": 31,
     "metadata": {},
     "output_type": "execute_result"
    }
   ],
   "source": [
    "exp_op"
   ]
  },
  {
   "cell_type": "markdown",
   "id": "9edea2ff",
   "metadata": {},
   "source": [
    "### Plot population in the initial state (ms = 0) vs. pulse duration"
   ]
  },
  {
   "cell_type": "markdown",
   "id": "cf1c285b",
   "metadata": {},
   "source": [
    "We expect the frequencies of the plots to be as follows:\n",
    "- Detuning = 0 --> $ W = \\Omega = 1 $ MHz\n",
    "- Detuning = 1 MHz --> $ W = \\sqrt{\\Delta^2+\\Omega^2} = \\sqrt{2} $ MHz\n",
    "- Detuning = 2 MHz --> $ W = \\sqrt{\\Delta^2+\\Omega^2} = \\sqrt{5} $ MHz"
   ]
  },
  {
   "cell_type": "code",
   "execution_count": 32,
   "id": "db030216",
   "metadata": {
    "scrolled": false
   },
   "outputs": [
    {
     "data": {
      "image/png": "[encoded data removed]",
      "text/plain": [
       "<Figure size 640x480 with 1 Axes>"
      ]
     },
     "metadata": {},
     "output_type": "display_data"
    }
   ],
   "source": [
    "popdata = [[]]*len(output_map)\n",
    "for i in np.arange(len(output_map)):\n",
    "    popdata[i] = expect(exp_op, ls_states_detunings[i])\n",
    "\n",
    "# plot for half of the time range just to make plot less cluttered\n",
    "for i in np.arange(len(output_map)):\n",
    "    plt.plot(arr_timesfp[0:50], popdata[i][0:50], '-')\n",
    "\n",
    "# plt.plot(arr_timesfp, popdata[2], '-')\n",
    "\n",
    "\n",
    "plt.title('Rabi oscillations for different detunings')\n",
    "plt.xlabel('Pulse duration (us)')\n",
    "plt.ylabel('Population ms=0')\n",
    "plt.legend(['Detuning = 0', 'Detuning = 1 MHz', 'Detuning = 2 MHz'])\n",
    "plt.show()"
   ]
  },
  {
   "cell_type": "markdown",
   "id": "b4471915",
   "metadata": {},
   "source": [
    "### Calculate frequency of each curve using FFT"
   ]
  },
  {
   "cell_type": "code",
   "execution_count": 33,
   "id": "90b79fd3",
   "metadata": {},
   "outputs": [],
   "source": [
    "def get_fft(t, data, cutoff_frq=0.1):\n",
    "    power_spect = np.abs(np.fft.fft(data))**2\n",
    "    freq = np.fft.fftfreq(data.size, d=t[1]-t[0])\n",
    "    freqstep = freq[1]- freq[0]\n",
    "    \n",
    "    bools_frq = freq > cutoff_frq\n",
    "    freq = freq[bools_frq]\n",
    "    power_spect = power_spect[bools_frq]\n",
    "    \n",
    "    return freq, power_spect"
   ]
  },
  {
   "cell_type": "code",
   "execution_count": 34,
   "id": "40bfe4e7",
   "metadata": {},
   "outputs": [
    {
     "name": "stdout",
     "output_type": "stream",
     "text": [
      "Peaks located at (MHz):\n",
      "[0.99       1.41428571 2.26285714]\n"
     ]
    },
    {
     "data": {
      "image/png": "[encoded data removed]",
      "text/plain": [
       "<Figure size 640x480 with 1 Axes>"
      ]
     },
     "metadata": {},
     "output_type": "display_data"
    }
   ],
   "source": [
    "# Evaluate Fourier Transform\n",
    "\n",
    "peaks = np.zeros(3)\n",
    "\n",
    "print(\"Peaks located at (MHz):\")\n",
    "\n",
    "for i in np.arange(len(popdata)):\n",
    "    xfrq, yps = get_fft(arr_timesfp, popdata[i], cutoff_frq=0.1)\n",
    "    idx_peak = scipy.signal.find_peaks(np.array(yps), height=np.median(popdata[i]))[0]\n",
    "    peaks[i] = xfrq[idx_peak]\n",
    "    plt.plot(xfrq, yps)\n",
    "\n",
    "print(peaks)\n",
    "plt.xlim([0,max(xfrq)])\n",
    "plt.xlabel('Frequency (MHz)')\n",
    "plt.ylabel('Arb units')\n",
    "plt.title('FFT Power Spectrum')\n",
    "plt.legend(['Detuning = 0', 'Detuning = 1 MHz', 'Detuning = 2 MHz'])\n",
    "plt.xticks(np.arange(7))\n",
    "plt.show()"
   ]
  },
  {
   "cell_type": "code",
   "execution_count": null,
   "id": "438c8bcd",
   "metadata": {},
   "outputs": [],
   "source": []
  }
 ],
 "metadata": {
  "kernelspec": {
   "display_name": "Python 3.9.13 ('base')",
   "language": "python",
   "name": "python3"
  },
  "language_info": {
   "codemirror_mode": {
    "name": "ipython",
    "version": 3
   },
   "file_extension": ".py",
   "mimetype": "text/x-python",
   "name": "python",
   "nbconvert_exporter": "python",
   "pygments_lexer": "ipython3",
   "version": "3.9.13"
  },
  "vscode": {
   "interpreter": {
    "hash": "b22b526ba07d2a9f5269290ac41e95dec606edb5466a5e81f07d2f41c55724ed"
   }
  }
 },
 "nbformat": 4,
 "nbformat_minor": 5
}
